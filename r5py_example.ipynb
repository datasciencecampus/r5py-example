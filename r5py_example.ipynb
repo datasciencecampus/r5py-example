{
 "cells": [
  {
   "cell_type": "markdown",
   "metadata": {},
   "source": [
    "# An `r5py` Example"
   ]
  },
  {
   "cell_type": "markdown",
   "metadata": {},
   "source": [
    "## Introduction\n",
    "\n",
    "This Jupyter Notebook demonstrates the use of the `r5py` library for transport network analysis and travel time estimation.\n",
    "\n",
    "It explores:\n",
    "- Creation transport networks,\n",
    "- Computing travel time matrices, and\n",
    "- Visualising results using `folium` and `geopandas`.\n",
    "\n",
    "> **Notes**, this notebook:\n",
    "> - assumes an understanding of GTFS and OpenStreetMap data formats, and that you have set up the repository as described in the README.\n",
    "> - only covers an initial demonstration of the `r5py` library. For more detailed information, please refer to the official documentation: https://r5.readthedocs.io/en/latest/.\n",
    "\n",
    "## Overview\n",
    "\n",
    "This Notebook uses the example of travel times to supermarkets across the\n",
    "Newport, Wales area.\n",
    "\n",
    "The the reqiured data is stored within the `data` directory:\n",
    "- `destinations/supermarkets.parquet` contains the locations of some supermarkets in the Newport area.\n",
    "- `gtfs/rail.zip` and `gtfs/other_modalities.zip` contains GTFS data for the Newport area.\n",
    "- `origins/pwcs.parquet` contains the locations of origin points in the Newport area, the 2021 Population Weighted Centroids within the Newport Local Authority.\n",
    "- `osm/newport.osm.pbf` contains OpenStreetMap data for the Newport area.\n",
    "\n",
    "For more information on the data sources, please refer to the `data/README`.\n",
    "\n",
    "The notebook demonstrates the following steps:\n",
    "1. Configure the analysis.\n",
    "2. Load and prepare the origins and destinations data.\n",
    "3. Create a transport network using the GTFS and OSM data.\n",
    "4. Compute travel time matrices.\n",
    "5. Visualize the results.\n",
    "\n"
   ]
  },
  {
   "cell_type": "markdown",
   "metadata": {},
   "source": [
    "## 1. Configure Analysis\n",
    "\n",
    "Import required modules for this example notebook:"
   ]
  },
  {
   "cell_type": "code",
   "execution_count": null,
   "metadata": {},
   "outputs": [],
   "source": [
    "import datetime\n",
    "import folium\n",
    "import geopandas as gpd\n",
    "import pandas as pd\n",
    "import warnings\n",
    "\n",
    "from pathlib import Path\n",
    "from r5py import TransportMode, TransportNetwork, TravelTimeMatrixComputer"
   ]
  },
  {
   "cell_type": "markdown",
   "metadata": {},
   "source": [
    "Set the analysis variables:\n",
    "\n",
    "> **Note:** Using `str(Path(...))` below allows the code to run on both Windows and Unix systems."
   ]
  },
  {
   "cell_type": "code",
   "execution_count": null,
   "metadata": {},
   "outputs": [],
   "source": [
    "# input data files\n",
    "origins = str(Path(\"data/origins/pwcs.parquet\"))\n",
    "destinations = str(Path(\"data/destinations/supermarkets.parquet\"))\n",
    "osm = str(Path(\"data/osm/newport.osm.pbf\"))\n",
    "gtfs = [\n",
    "    str(Path(\"data/gtfs/rail.zip\")),\n",
    "    str(Path(\"data/gtfs/other_modalities.zip\")),\n",
    "]\n",
    "\n",
    "# travel time configuration\n",
    "departure = datetime.datetime(\n",
    "    2024, 3, 5, 8, 0, 0\n",
    ")  # DO NOT CHANGE `departure` - GTFS has been prefiltered for this date\n",
    "transport_modes = [TransportMode.TRANSIT]\n",
    "travel_time_window = 60  # in minutes\n",
    "max_travel_time = 45  # in minutes\n",
    "speed_walking = 4.5  # in km/h\n",
    "speed_cycling = 15.0  # in km/h"
   ]
  },
  {
   "cell_type": "markdown",
   "metadata": {},
   "source": [
    "Where:\n",
    "\n",
    "| Variable | Description |\n",
    "| --- | --- |\n",
    "| `origin` | The origin locations data, in this case the population weighted centroids `GeoDataFrame` for the Newport area. |\n",
    "| `destination` | The destination locations data, in this case the supermarket locations `GeoDataFrame` for the Newport area. |\n",
    "| `osm` | The OpenStreetMap data (in `.pbf` format) for the Newport area. |\n",
    "| `gtfs` | The public transit data (in `.zip` format) for the Newport area. **Note:** if working with modalities which aren't public transit, then GTFS data isn't needed. It can also be multiple GTFS files if needed, r5py combines them all together at runtime. |\n",
    "| `departure` | The departure date and time. This is a `datetime` object, and is currently set to 0800 on 5th March 2024 (do not change this, the GTFS has been pre-filtered to this date). |\n",
    "| `transport_modes` | A list of transport modes to include in the analysis. Examples include `TransportMode.WALK`, `TransportMode.CAR`, `TransportMode.BICYCLE`, and `TransportMode.TRANSIT`. You can read more about these in the r5py documentation: https://r5py.readthedocs.io/en/stable/reference/reference.html#r5py.TransportMode. **Note:** this can be a list of modes too, to explore multi-modal analyses, for example. |\n",
    "| `travel_time_window` | The duration over which the median travel time will be calculated. |\n",
    "| `max_travel_time` | The maximum travel time to include in the analysis. This is used to filter out trips that are too long. |\n",
    "| `speed_walking` | The average walking speed, in km/h. |\n",
    "| `speed_cycling` | The average cycling speed, in km/h. |\n",
    "\n",
    "\n",
    "> **Note:** lots more r5py configuration options are available, for example; percentiles other than the median travel time, the maximum number of public transit 'legs', and bicycle stress. See the the r5py reference documentation for more information: https://r5py.readthedocs.io/en/stable/reference/reference.html#reference"
   ]
  },
  {
   "cell_type": "markdown",
   "metadata": {},
   "source": [
    "## 2. Load the Origin and Destination Data\n",
    "\n",
    "`r5py` expects 2 things of the origin and destination data:\n",
    " 1. It has a unique `id` column to identify each location.\n",
    " 2. The coordinate reference system (CRS) is EPSG:4326 (lat/lon).\n",
    "\n",
    "The population weighted centroids (PWCs) are in EPSG:27700, and are identified by the `OA21CD` column, so this needs to be preprocessed. The supermarkets are already in EPSG:4326, and are identified by the `id` column - so no preprocessing is needed there."
   ]
  },
  {
   "cell_type": "code",
   "execution_count": null,
   "metadata": {},
   "outputs": [],
   "source": [
    "# read and preprocess origins\n",
    "origins_gdf = gpd.read_parquet(origins)\n",
    "origins_gdf = origins_gdf.rename(columns={\"OA21CD\": \"id\"})\n",
    "origins_gdf = origins_gdf.to_crs(\"EPSG:4326\")\n",
    "\n",
    "# read destinations (no preprocessing required)\n",
    "destinations_gdf = gpd.read_parquet(destinations)\n",
    "\n",
    "# display number of origins and destinations\n",
    "print(f\"Number of origins: {len(origins_gdf)}\")\n",
    "print(f\"Number of destinations: {len(destinations_gdf)}\")"
   ]
  },
  {
   "cell_type": "markdown",
   "metadata": {},
   "source": [
    "Lets take a look at the data on a map, using `geopandas.explore()`:"
   ]
  },
  {
   "cell_type": "code",
   "execution_count": null,
   "metadata": {},
   "outputs": [],
   "source": [
    "origins_gdf.explore(tiles=\"cartodbpositron\")"
   ]
  },
  {
   "cell_type": "code",
   "execution_count": null,
   "metadata": {},
   "outputs": [],
   "source": [
    "destinations_gdf.explore(tiles=\"cartodbpositron\", marker_type=\"marker\")"
   ]
  },
  {
   "cell_type": "markdown",
   "metadata": {},
   "source": [
    "## 3. Make the Transport Network\n",
    "\n",
    "The transport network can be made from the OpenStreetMap data and any GTFS data. It uses the `r5py.TransportNetwork` class to construct everything needed for travel time estimation. We just need to point the variables to the filenames, as shown below:\n",
    "\n",
    "> Note: You may see the following output when running this cell:\n",
    "> ```\n",
    "> WARNING: An illegal reflective access operation has occurred\n",
    "> WARNING: Illegal reflective access by org.mapdb.Volume$ByteBufferVol (file:/.cache/r5py/r5-v6.9-all.jar) to method java.nio.DirectByteBuffer.cleaner()\n",
    "> WARNING: Please consider reporting this to the maintainers of org.mapdb.Volume$ByteBufferVol\n",
    "> WARNING: Use --illegal-access=warn to enable warnings of further illegal reflective access operations\n",
    "> WARNING: All illegal access operations will be denied in a future release\n",
    "> ```\n",
    "> This is a known issue with the underlying `r5` library, and can be safely ignored (see the documentation for more details).\n"
   ]
  },
  {
   "cell_type": "code",
   "execution_count": null,
   "metadata": {},
   "outputs": [],
   "source": [
    "transport_network = TransportNetwork(osm, gtfs)"
   ]
  },
  {
   "cell_type": "markdown",
   "metadata": {},
   "source": [
    "## 4. Calculate the Travel Times"
   ]
  },
  {
   "cell_type": "markdown",
   "metadata": {},
   "source": [
    "Now the network is ready, we can calculate the travel times!\n",
    "\n",
    "We can do this by first building a `r5py.TravelTimeMatrixComputer` object. This is the object that takes our analysis configuration, and can be built as shown below:"
   ]
  },
  {
   "cell_type": "code",
   "execution_count": null,
   "metadata": {},
   "outputs": [],
   "source": [
    "# build the travel time matrix computer\n",
    "tt_computer = TravelTimeMatrixComputer(\n",
    "    transport_network,\n",
    "    origins=origins_gdf,\n",
    "    destinations=destinations_gdf,\n",
    "    departure=departure,\n",
    "    transport_modes=transport_modes,\n",
    "    max_time=datetime.timedelta(minutes=max_travel_time),\n",
    "    departure_time_window=datetime.timedelta(minutes=travel_time_window),\n",
    "    speed_walking=speed_walking,\n",
    "    speed_cycling=speed_cycling,\n",
    ")"
   ]
  },
  {
   "cell_type": "markdown",
   "metadata": {},
   "source": [
    "> **Note:** the `max_time` and `departure_time` window arguments need to be `datetime.timedelta` objects.\n",
    "\n",
    "As described above, lots more configuration options are available, for example; percentiles other than the median travel time, the maximum number of public transit 'legs', and bicycle stress. See the the r5py reference documentation for more information: https://r5py.readthedocs.io/en/stable/reference/reference.html#reference.\n",
    "\n",
    "Once the computer is available, we can then call `.compute_travel_times()` to estimate the travel time between all origin and destination pairs. This will return a `pandas.DataFrame` with the median travel times, by default this will be the `travel_time` column, in minutes."
   ]
  },
  {
   "cell_type": "code",
   "execution_count": null,
   "metadata": {},
   "outputs": [],
   "source": [
    "with warnings.catch_warnings():\n",
    "    warnings.simplefilter(\"ignore\", category=FutureWarning)\n",
    "    # compute the travel times\n",
    "    tt_df = tt_computer.compute_travel_times()"
   ]
  },
  {
   "cell_type": "markdown",
   "metadata": {},
   "source": [
    "> **Note:** The cell above uses a warning filter to suppress warnings that are thrown by `pandas` when using `r5py` v0.1.0 (which this example uses). It is a futures warning from pandas that can be safely ignored (it's resolved in newer versions of `r5py`). If you are using a newer version of `r5py`, you can remove the warning filter. The filter here just stops the output from being cluttered."
   ]
  },
  {
   "cell_type": "markdown",
   "metadata": {},
   "source": [
    "Now we can take a look at the travel time output! Lets look at the first few rows of the travel time matrix:"
   ]
  },
  {
   "cell_type": "code",
   "execution_count": null,
   "metadata": {},
   "outputs": [],
   "source": [
    "tt_df.head()"
   ]
  },
  {
   "cell_type": "markdown",
   "metadata": {},
   "source": [
    "> **Note:** and `NaN` travel time values mean that the median travel time between that origin and destination pair is greater than the `max_travel_time` value.\n",
    "\n",
    "We can also explore the whole travel time matrix:"
   ]
  },
  {
   "cell_type": "code",
   "execution_count": null,
   "metadata": {},
   "outputs": [],
   "source": [
    "tt_df.describe(include=\"all\")"
   ]
  },
  {
   "cell_type": "markdown",
   "metadata": {},
   "source": [
    "## 5. Visualise the Results"
   ]
  },
  {
   "cell_type": "markdown",
   "metadata": {},
   "source": [
    "Given this is a geospatial problem, it's often much easier to see things on a map. Below is a helper function that will do that for us. Run the cell below to define the function:"
   ]
  },
  {
   "cell_type": "code",
   "execution_count": null,
   "metadata": {},
   "outputs": [],
   "source": [
    "def plot_tts_to_destination(\n",
    "    dest_id: int,\n",
    "    travel_times: pd.DataFrame,\n",
    "    origins: gpd.GeoDataFrame,\n",
    "    destinations: gpd.GeoDataFrame,\n",
    ") -> folium.Map:\n",
    "    \"\"\"Helper function to visualise the travel times.\n",
    "\n",
    "    Use the hover tooptip for more information. Origins are color coded by the\n",
    "    median travel time to the destination requested. The destination is marked\n",
    "    with a red flag. Grey origins indicate that there are no travel times to\n",
    "    the destination (destination is too remote for the modality). These will\n",
    "    display the travel time as `null` in the tooltip.\n",
    "\n",
    "    Parameters\n",
    "    ----------\n",
    "    dest_id : int\n",
    "        Destination ID.\n",
    "    travel_times : pd.DataFrame\n",
    "        Travel times output.\n",
    "    origins : gpd.GeoDataFrame\n",
    "        Origins geodataframe.\n",
    "    destinations : gpd.GeoDataFrame\n",
    "        Destinations geodataframe.\n",
    "\n",
    "    Returns\n",
    "    -------\n",
    "    folium.Map\n",
    "        Map of travel times to destination requested.\n",
    "\n",
    "    Raises\n",
    "    ------\n",
    "    ValueError\n",
    "        When:\n",
    "        - the destination does not exist.\n",
    "        - there are no travel times to the destination (destination is too\n",
    "        remote for the modality).\n",
    "    \"\"\"\n",
    "    # raise an error if the destination ID is not in the travel times\n",
    "    if dest_id not in tt_df[\"to_id\"].unique():\n",
    "        raise ValueError(f\"Destination ID {dest_id} not found\")\n",
    "\n",
    "    # filter the travel times to the destination\n",
    "    plot_df = travel_times[travel_times[\"to_id\"] == dest_id].copy()\n",
    "\n",
    "    # raise an error if there are no travel times to the destination\n",
    "    # handles case where the destination is unreachable\n",
    "    if all(plot_df[\"travel_time\"].isna()):\n",
    "        raise ValueError(f\"No travel times to destination ID {dest_id}\")\n",
    "\n",
    "    # join on the geometry data\n",
    "    plot_gdf = origins.merge(\n",
    "        plot_df,\n",
    "        left_on=\"id\",\n",
    "        right_on=\"from_id\",\n",
    "    ).drop(columns=[\"id\"])\n",
    "\n",
    "    # visualise the travel times\n",
    "    m = plot_gdf.explore(\n",
    "        \"travel_time\",\n",
    "        tiles=\"CartoDB positron\",\n",
    "        legend_kwds={\"caption\": \"Median travel time (minutes)\"},\n",
    "    )\n",
    "\n",
    "    # add the destination marker\n",
    "    destination = destinations[destinations[\"id\"] == dest_id][[\"geometry\", \"id\"]]\n",
    "    m = destination.explore(\n",
    "        marker_type=\"marker\",\n",
    "        marker_kwds={\n",
    "            \"icon\": folium.Icon(\n",
    "                color=\"red\",\n",
    "                prefix=\"fa\",\n",
    "                icon=\"flag-checkered\",\n",
    "            )\n",
    "        },\n",
    "        m=m,\n",
    "    )\n",
    "\n",
    "    return m"
   ]
  },
  {
   "cell_type": "markdown",
   "metadata": {},
   "source": [
    "Now we can use that function to visualise the travel times from all the PWCs to a supermarket of interest. Change `supermarket_id` to the `id` of the supermarket you are interested in, and run the cell below:\n",
    "\n",
    "> Note: there are only 22 supermarkets in this data, so only IDs 0-21 are valid."
   ]
  },
  {
   "cell_type": "code",
   "execution_count": null,
   "metadata": {},
   "outputs": [],
   "source": [
    "# change the supermarket id and see the travel times to that destination\n",
    "supermarket_id = 2\n",
    "plot_tts_to_destination(supermarket_id, tt_df, origins_gdf, destinations_gdf)"
   ]
  },
  {
   "cell_type": "markdown",
   "metadata": {},
   "source": [
    "## 6. Conclusion\n",
    "\n",
    "This notebook demonstrated the use of the `r5py` library to analyse transport networks and estimate travel times to supermarkets across the Newport, Wales area. It covered the steps from configuring the analysis, loading and preparing data, creating a transport network, computing travel time matrices, and visualizing the results. For more information on the `r5py` library, please refer to the [documentation](https://r5py.readthedocs.io/en/stable/).\n",
    "\n",
    "## Further Experimentation\n",
    "\n",
    "This example looked at estimating travel times to some supermarkets in the Newport area using public transit. What about:\n",
    "- Other modes of transport, such as walking, cycling, or car? Maybe even multiple modes?\n",
    "- How does this vary at different times of day?\n",
    "- What about other percentiles of travel time (rather than median)? Maybe the 10th or 90th percentile are more useful when answer specific research questions?"
   ]
  },
  {
   "cell_type": "code",
   "execution_count": null,
   "metadata": {},
   "outputs": [],
   "source": []
  }
 ],
 "metadata": {
  "language_info": {
   "codemirror_mode": {
    "name": "ipython",
    "version": 3
   },
   "file_extension": ".py",
   "mimetype": "text/x-python",
   "name": "python",
   "nbconvert_exporter": "python",
   "pygments_lexer": "ipython3",
   "version": "3.11.7"
  }
 },
 "nbformat": 4,
 "nbformat_minor": 2
}
